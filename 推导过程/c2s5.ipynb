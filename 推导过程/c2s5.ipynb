{
 "cells": [
  {
   "cell_type": "code",
   "execution_count": 1,
   "id": "05f80f54-a446-49d8-bf31-a784802b52c6",
   "metadata": {},
   "outputs": [],
   "source": [
    "import sympy as sp\n",
    "sp.init_printing()"
   ]
  },
  {
   "cell_type": "code",
   "execution_count": 18,
   "id": "aed88582-2929-41f7-939b-3132caa86d26",
   "metadata": {},
   "outputs": [
    {
     "data": {
      "image/png": "[encoded data removed]",
      "text/latex": [
       "$\\displaystyle \\frac{1}{1 - e^{- x}}$"
      ],
      "text/plain": [
       "   1   \n",
       "───────\n",
       "     -x\n",
       "1 - ℯ  "
      ]
     },
     "execution_count": 18,
     "metadata": {},
     "output_type": "execute_result"
    }
   ],
   "source": [
    "x = sp.symbols('x',real=True,positive=True)\n",
    "y = sp.symbols('y',real=True,positive=True)\n",
    "expr = 1/(1-sp.exp(-x))\n",
    "expr"
   ]
  },
  {
   "cell_type": "code",
   "execution_count": 22,
   "id": "b99f1bea-65f6-4d45-9957-5b9824ea691f",
   "metadata": {},
   "outputs": [
    {
     "data": {
      "image/png": "[encoded data removed]",
      "text/latex": [
       "$\\displaystyle \\frac{\\left(e^{x} + 1\\right) e^{x}}{\\left(e^{x} - 1\\right)^{3}}$"
      ],
      "text/plain": [
       "⎛ x    ⎞  x\n",
       "⎝ℯ  + 1⎠⋅ℯ \n",
       "───────────\n",
       "         3 \n",
       " ⎛ x    ⎞  \n",
       " ⎝ℯ  - 1⎠  "
      ]
     },
     "execution_count": 22,
     "metadata": {},
     "output_type": "execute_result"
    }
   ],
   "source": [
    "r = sp.simplify(sp.diff(expr,x,2))\n",
    "r"
   ]
  },
  {
   "cell_type": "code",
   "execution_count": 15,
   "id": "659e1466-0e8d-496c-b1a0-7f9bbe302e83",
   "metadata": {},
   "outputs": [
    {
     "data": {
      "image/png": "[encoded data removed]",
      "text/latex": [
       "$\\displaystyle 2 y^{3} + 3 y^{2} + y$"
      ],
      "text/plain": [
       "   3      2    \n",
       "2⋅y  + 3⋅y  + y"
      ]
     },
     "execution_count": 15,
     "metadata": {},
     "output_type": "execute_result"
    }
   ],
   "source": [
    "r2 = sp.expand(sp.simplify(r.subs({sp.exp(-x):y/(1+y)})))\n",
    "r2"
   ]
  },
  {
   "cell_type": "code",
   "execution_count": 24,
   "id": "5307736c-7925-4ffa-bc90-53cf6906ee0a",
   "metadata": {},
   "outputs": [
    {
     "data": {
      "image/png": "[encoded data removed]",
      "text/latex": [
       "$\\displaystyle y \\left(2 y + 1\\right)$"
      ],
      "text/plain": [
       "y⋅(2⋅y + 1)"
      ]
     },
     "execution_count": 24,
     "metadata": {},
     "output_type": "execute_result"
    }
   ],
   "source": [
    "Z = sp.exp(-x/2) / (1-sp.exp(-x))\n",
    "r3 = r2*sp.exp(-x/2)/Z\n",
    "r3 = r3.subs({sp.exp(-x):y/(1+y)})\n",
    "sp.simplify(r3)"
   ]
  },
  {
   "cell_type": "code",
   "execution_count": null,
   "id": "401b9e96-ef45-425a-be22-4542cc655227",
   "metadata": {},
   "outputs": [],
   "source": []
  }
 ],
 "metadata": {
  "kernelspec": {
   "display_name": "Python 3 (ipykernel)",
   "language": "python",
   "name": "python3"
  },
  "language_info": {
   "codemirror_mode": {
    "name": "ipython",
    "version": 3
   },
   "file_extension": ".py",
   "mimetype": "text/x-python",
   "name": "python",
   "nbconvert_exporter": "python",
   "pygments_lexer": "ipython3",
   "version": "3.11.6"
  }
 },
 "nbformat": 4,
 "nbformat_minor": 5
}
